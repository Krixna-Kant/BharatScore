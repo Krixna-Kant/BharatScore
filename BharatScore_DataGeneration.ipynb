{
  "nbformat": 4,
  "nbformat_minor": 0,
  "metadata": {
    "colab": {
      "provenance": [],
      "authorship_tag": "ABX9TyNvAbXmSHX3Wjp/ZMfeTLmS",
      "include_colab_link": true
    },
    "kernelspec": {
      "name": "python3",
      "display_name": "Python 3"
    },
    "language_info": {
      "name": "python"
    }
  },
  "cells": [
    {
      "cell_type": "markdown",
      "metadata": {
        "id": "view-in-github",
        "colab_type": "text"
      },
      "source": [
        "<a href=\"https://colab.research.google.com/github/Krixna-Kant/BharatScore/blob/main/BharatScore_DataGeneration.ipynb\" target=\"_parent\"><img src=\"https://colab.research.google.com/assets/colab-badge.svg\" alt=\"Open In Colab\"/></a>"
      ]
    },
    {
      "cell_type": "code",
      "execution_count": 2,
      "metadata": {
        "id": "sjnjkJdWQLEe"
      },
      "outputs": [],
      "source": [
        "import numpy as np\n",
        "import pandas as pd\n",
        "from scipy.optimize import brentq\n",
        "\n",
        "np.random.seed(42)\n",
        "N = 5000\n",
        "TARGET_DEFAULT_RATE = 0.20"
      ]
    },
    {
      "cell_type": "code",
      "source": [
        "def sigmoid(x):\n",
        "    return 1 / (1 + np.exp(-x))\n",
        "\n",
        "def calibrate_intercept(target_rate, linear_score):\n",
        "    \"\"\"\n",
        "    Calibrates intercept so that average PD matches target_rate.\n",
        "    \"\"\"\n",
        "    def objective(intercept):\n",
        "        pd = sigmoid(linear_score + intercept)\n",
        "        return pd.mean() - target_rate\n",
        "\n",
        "    intercept = brentq(objective, -10, 10)\n",
        "    return intercept\n",
        "\n",
        "# Loan categories\n",
        "loan_categories = [\"education\", \"farmer\", \"startup\", \"personal\"]\n",
        "\n",
        "# User characteristics\n",
        "user_type = np.random.choice([\"smartphone\", \"feature_phone\"], size=N, p=[0.7, 0.3])\n",
        "region = np.random.choice([\"urban\", \"rural\"], size=N, p=[0.6, 0.4])\n",
        "age_group = np.random.choice([\"18-30\", \"31-50\", \"51-70\"], size=N, p=[0.4, 0.4, 0.2])"
      ],
      "metadata": {
        "id": "sxAKawubjYNk"
      },
      "execution_count": 3,
      "outputs": []
    },
    {
      "cell_type": "code",
      "source": [
        "sms_count = np.where(\n",
        "    user_type == \"smartphone\",\n",
        "    np.random.poisson(30, size=N),\n",
        "    np.random.poisson(8, size=N)\n",
        ")\n",
        "\n",
        "bill_on_time_ratio = np.clip(np.random.beta(5, 2, N), 0, 1)\n",
        "\n",
        "recharge_pattern = np.random.choice(\n",
        "    [\"always_on_time\", \"sometimes_late\", \"often_late\"],\n",
        "    size=N,\n",
        "    p=[0.6, 0.3, 0.1]\n",
        ")\n",
        "recharge_freq = np.where(\n",
        "    recharge_pattern == \"always_on_time\", 1.0,\n",
        "    np.where(recharge_pattern == \"sometimes_late\", 0.5, 0.2)\n",
        ")\n",
        "\n",
        "sim_tenure = np.random.randint(1, 121, N)\n",
        "\n",
        "location_stability = np.where(\n",
        "    region == \"urban\",\n",
        "    np.clip(np.random.normal(0.8, 0.1, N), 0, 1),\n",
        "    np.clip(np.random.normal(0.6, 0.15, N), 0, 1)\n",
        ")"
      ],
      "metadata": {
        "id": "ip83fmH1jjyD"
      },
      "execution_count": 4,
      "outputs": []
    },
    {
      "cell_type": "code",
      "source": [
        "# SMS count per month (proxy for activity)\n",
        "sms_count = np.where(\n",
        "    user_type == \"smartphone\",\n",
        "    np.random.poisson(30, size=N),   # higher for smartphone\n",
        "    np.random.poisson(8, size=N)     # lower for feature phone\n",
        ")\n",
        "\n",
        "# Bill on time ratio (last 6 months)\n",
        "bill_on_time_ratio = np.clip(np.random.beta(5, 2, N), 0, 1)\n",
        "\n",
        "# Recharge frequency proxy (per month or pattern)\n",
        "# Instead of raw count → categorical mapped to score\n",
        "recharge_pattern = np.random.choice(\n",
        "    [\"always_on_time\", \"sometimes_late\", \"often_late\"],\n",
        "    size=N,\n",
        "    p=[0.6, 0.3, 0.1]\n",
        ")\n",
        "recharge_freq = np.where(\n",
        "    recharge_pattern == \"always_on_time\", 1.0,\n",
        "    np.where(recharge_pattern == \"sometimes_late\", 0.5, 0.2)\n",
        ")\n",
        "\n",
        "# SIM tenure (months since activation)\n",
        "sim_tenure = np.random.randint(1, 121, N)   # 1 to 10 years\n",
        "\n",
        "# Location stability (past 12 months)\n",
        "location_stability = np.where(\n",
        "    region == \"urban\",\n",
        "    np.clip(np.random.normal(0.8, 0.1, N), 0, 1),\n",
        "    np.clip(np.random.normal(0.6, 0.15, N), 0, 1)\n",
        ")"
      ],
      "metadata": {
        "id": "a8_DoYv0jqpK"
      },
      "execution_count": 5,
      "outputs": []
    },
    {
      "cell_type": "code",
      "source": [
        "income_signal = np.clip(bill_on_time_ratio + np.random.normal(0, 0.1, N), 0, 1)\n",
        "\n",
        "coop_score = np.clip(np.random.normal(65, 15, N), 0, 100)\n",
        "\n",
        "land_verified = np.where(region == \"rural\", np.random.binomial(1, 0.35, N), np.random.binomial(1, 0.1, N))"
      ],
      "metadata": {
        "id": "E2UncHATkBS8"
      },
      "execution_count": 6,
      "outputs": []
    },
    {
      "cell_type": "code",
      "source": [
        "psychometric_score = np.clip(np.random.normal(0.6, 0.15, N), 0, 1)"
      ],
      "metadata": {
        "id": "1Dj9Sb2VkHZY"
      },
      "execution_count": 7,
      "outputs": []
    },
    {
      "cell_type": "code",
      "source": [
        "loan_amount_requested = np.random.randint(10000, 500000, N)\n",
        "loan_category = np.random.choice(loan_categories, size=N)"
      ],
      "metadata": {
        "id": "M0GIppSWkNQD"
      },
      "execution_count": 8,
      "outputs": []
    },
    {
      "cell_type": "code",
      "source": [
        "weights = {\n",
        "    \"sms\": -0.6,\n",
        "    \"bill\": -2.0,\n",
        "    \"recharge\": -1.2,\n",
        "    \"sim\": -0.3,\n",
        "    \"loc\": -1.5,\n",
        "    \"income\": -2.5,\n",
        "    \"coop\": -0.01,\n",
        "    \"land\": -0.8,\n",
        "    \"psych\": -2.8\n",
        "}\n",
        "\n",
        "linear_score = (\n",
        "    weights[\"sms\"] * (sms_count / (sms_count.max() + 1))\n",
        "    + weights[\"bill\"] * bill_on_time_ratio\n",
        "    + weights[\"recharge\"] * recharge_freq\n",
        "    + weights[\"sim\"] * (sim_tenure / 120)\n",
        "    + weights[\"loc\"] * location_stability\n",
        "    + weights[\"income\"] * income_signal\n",
        "    + weights[\"coop\"] * (coop_score / 100)\n",
        "    + weights[\"land\"] * land_verified\n",
        "    + weights[\"psych\"] * psychometric_score\n",
        ")"
      ],
      "metadata": {
        "id": "RxuleqNVkSjQ"
      },
      "execution_count": 9,
      "outputs": []
    },
    {
      "cell_type": "code",
      "source": [
        "# Recharge penalty\n",
        "linear_score += np.where(recharge_pattern == \"often_late\", -1.5, 0)\n",
        "\n",
        "# Rural + low coop score interaction\n",
        "linear_score += -1.0 * ((region == \"rural\") & (coop_score < 50))\n",
        "\n",
        "# Income threshold effect\n",
        "linear_score += np.where(income_signal < 0.3, -2, 0)"
      ],
      "metadata": {
        "id": "msF3PnEnod2-"
      },
      "execution_count": 10,
      "outputs": []
    },
    {
      "cell_type": "code",
      "source": [
        "# Finding intercept so PD ~ target default rate\n",
        "calibrated_intercept = calibrate_intercept(TARGET_DEFAULT_RATE, linear_score)\n",
        "linear_score = linear_score + calibrated_intercept\n",
        "\n",
        "pd_values = np.clip(sigmoid(linear_score), 0.0001, 0.9999)\n",
        "default_label = (np.random.rand(N) < pd_values).astype(int)"
      ],
      "metadata": {
        "id": "wlXXtsjiohRb"
      },
      "execution_count": 11,
      "outputs": []
    },
    {
      "cell_type": "code",
      "source": [
        "ids = [f\"USR_{i:05d}\" for i in range(1, N+1)]\n",
        "\n",
        "df = pd.DataFrame({\n",
        "    \"id\": ids,\n",
        "    \"user_type\": user_type,\n",
        "    \"region\": region,\n",
        "    \"age_group\": age_group,\n",
        "    \"sms_count\": sms_count,\n",
        "    \"bill_on_time_ratio\": bill_on_time_ratio,\n",
        "    \"recharge_pattern\": recharge_pattern,\n",
        "    \"recharge_freq\": recharge_freq,\n",
        "    \"sim_tenure\": sim_tenure,\n",
        "    \"location_stability\": location_stability,\n",
        "    \"income_signal\": income_signal,\n",
        "    \"coop_score\": coop_score,\n",
        "    \"land_verified\": land_verified,\n",
        "    \"psychometric_score\": psychometric_score,\n",
        "    \"loan_amount_requested\": loan_amount_requested,\n",
        "    \"loan_category\": loan_category,\n",
        "    \"pd\": pd_values,\n",
        "    \"default\": default_label\n",
        "})\n",
        "\n",
        "df.to_csv(\"bharatscore_final_dataset.csv\", index=False)\n",
        "\n",
        "print(\"Synthetic dataset generated and saved as bharatscore_final_dataset.csv\")\n",
        "print(\"Shape:\", df.shape)\n",
        "print(f\"\\nDefault Rate: {df['default'].mean():.2%}\")\n",
        "print(\"\\nSample Rows:\")\n",
        "print(df.head())"
      ],
      "metadata": {
        "colab": {
          "base_uri": "https://localhost:8080/"
        },
        "id": "8J9Vq3ikkcRi",
        "outputId": "4bf4f1e1-c045-4265-800a-af80cfb5e242"
      },
      "execution_count": 12,
      "outputs": [
        {
          "output_type": "stream",
          "name": "stdout",
          "text": [
            "Synthetic dataset generated and saved as bharatscore_final_dataset.csv\n",
            "Shape: (5000, 18)\n",
            "\n",
            "Default Rate: 19.96%\n",
            "\n",
            "Sample Rows:\n",
            "          id      user_type region age_group  sms_count  bill_on_time_ratio  \\\n",
            "0  USR_00001     smartphone  urban     18-30         31            0.443740   \n",
            "1  USR_00002  feature_phone  urban     18-30          7            0.563497   \n",
            "2  USR_00003  feature_phone  rural     18-30          3            0.839333   \n",
            "3  USR_00004     smartphone  urban     31-50         26            0.923190   \n",
            "4  USR_00005     smartphone  rural     31-50         22            0.304195   \n",
            "\n",
            "  recharge_pattern  recharge_freq  sim_tenure  location_stability  \\\n",
            "0   sometimes_late            0.5         109            0.865462   \n",
            "1       often_late            0.2          54            0.840071   \n",
            "2   always_on_time            1.0          92            0.815628   \n",
            "3       often_late            0.2          68            0.854602   \n",
            "4   always_on_time            1.0         103            0.821495   \n",
            "\n",
            "   income_signal  coop_score  land_verified  psychometric_score  \\\n",
            "0       0.447598   71.552112              0            0.402233   \n",
            "1       0.568235   69.361204              0            0.590577   \n",
            "2       0.820823   47.860835              0            0.433091   \n",
            "3       0.892133   51.111236              0            0.647874   \n",
            "4       0.127923   69.740189              1            0.752821   \n",
            "\n",
            "   loan_amount_requested loan_category        pd  default  \n",
            "0                 395299      personal  0.604813        1  \n",
            "1                 315457     education  0.208267        1  \n",
            "2                 133089       startup  0.072528        0  \n",
            "3                  54606     education  0.035742        0  \n",
            "4                 482082     education  0.063281        0  \n"
          ]
        }
      ]
    },
    {
      "cell_type": "code",
      "source": [
        "df['default'].value_counts(normalize=True)"
      ],
      "metadata": {
        "colab": {
          "base_uri": "https://localhost:8080/",
          "height": 178
        },
        "id": "jtKFOwjmmUMQ",
        "outputId": "31efffc1-0905-40c9-c602-e2cb8c2b43fd"
      },
      "execution_count": 13,
      "outputs": [
        {
          "output_type": "execute_result",
          "data": {
            "text/plain": [
              "default\n",
              "0    0.8004\n",
              "1    0.1996\n",
              "Name: proportion, dtype: float64"
            ],
            "text/html": [
              "<div>\n",
              "<style scoped>\n",
              "    .dataframe tbody tr th:only-of-type {\n",
              "        vertical-align: middle;\n",
              "    }\n",
              "\n",
              "    .dataframe tbody tr th {\n",
              "        vertical-align: top;\n",
              "    }\n",
              "\n",
              "    .dataframe thead th {\n",
              "        text-align: right;\n",
              "    }\n",
              "</style>\n",
              "<table border=\"1\" class=\"dataframe\">\n",
              "  <thead>\n",
              "    <tr style=\"text-align: right;\">\n",
              "      <th></th>\n",
              "      <th>proportion</th>\n",
              "    </tr>\n",
              "    <tr>\n",
              "      <th>default</th>\n",
              "      <th></th>\n",
              "    </tr>\n",
              "  </thead>\n",
              "  <tbody>\n",
              "    <tr>\n",
              "      <th>0</th>\n",
              "      <td>0.8004</td>\n",
              "    </tr>\n",
              "    <tr>\n",
              "      <th>1</th>\n",
              "      <td>0.1996</td>\n",
              "    </tr>\n",
              "  </tbody>\n",
              "</table>\n",
              "</div><br><label><b>dtype:</b> float64</label>"
            ]
          },
          "metadata": {},
          "execution_count": 13
        }
      ]
    },
    {
      "cell_type": "code",
      "source": [
        "# Checking default rate\n",
        "default_rate = df['default'].mean()\n",
        "\n",
        "print(f\"Default Rate: {default_rate:.2%}\")\n",
        "\n",
        "# If imbalanced, regenerate with slight noise adjustment\n",
        "if default_rate < 0.1 or default_rate > 0.3:\n",
        "    print(\"Default rate outside desired range (10–30%). Adjusting noise...\")\n",
        "\n",
        "    # Adjust intercept to shift probabilities\n",
        "    adjust = -np.log((0.2 / (1-0.2)))  # target ~20%\n",
        "    linear_score = linear_score + adjust\n",
        "    pd_values = np.clip(sigmoid(linear_score), 0.0001, 0.9999)\n",
        "    default_label = (np.random.rand(N) < pd_values).astype(int)\n",
        "\n",
        "    df['pd'] = pd_values\n",
        "    df['default'] = default_label\n",
        "\n",
        "    print(f\"Adjusted Default Rate: {df['default'].mean():.2%}\")\n"
      ],
      "metadata": {
        "colab": {
          "base_uri": "https://localhost:8080/"
        },
        "id": "WJNUflKymhgO",
        "outputId": "84352fc9-b973-487f-bcf8-92737957184e"
      },
      "execution_count": 14,
      "outputs": [
        {
          "output_type": "stream",
          "name": "stdout",
          "text": [
            "Default Rate: 19.96%\n"
          ]
        }
      ]
    }
  ]
}